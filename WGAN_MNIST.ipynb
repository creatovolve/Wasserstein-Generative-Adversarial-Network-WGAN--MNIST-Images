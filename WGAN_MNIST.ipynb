{
  "cells": [
    {
      "cell_type": "code",
      "source": [
        "import torch, random, numpy as np, os\n",
        "\n",
        "os.environ[\"CUBLAS_WORKSPACE_CONFIG\"] = \":4096:8\""
      ],
      "metadata": {
        "id": "ol3p3bIi23Vl"
      },
      "execution_count": 1,
      "outputs": []
    },
    {
      "cell_type": "code",
      "source": [
        "import os\n",
        "os.environ[\"CUBLAS_WORKSPACE_CONFIG\"] = \":4096:8\"  # must be before torch import"
      ],
      "metadata": {
        "id": "c2PGp4IxjqM4"
      },
      "execution_count": 2,
      "outputs": []
    },
    {
      "cell_type": "code",
      "execution_count": 3,
      "metadata": {
        "id": "KckTafffNJZF"
      },
      "outputs": [],
      "source": [
        "import numpy as np\n",
        "from PIL import Image\n",
        "import cv2\n",
        "import matplotlib.pyplot as plts\n",
        "import random"
      ]
    },
    {
      "cell_type": "code",
      "execution_count": 4,
      "metadata": {
        "id": "rLoraCGMNJZG"
      },
      "outputs": [],
      "source": [
        "import torch\n",
        "\n",
        "# Fix Python, NumPy, PyTorch RNGs\n",
        "seed = 42\n",
        "random.seed(seed)\n",
        "np.random.seed(seed)\n",
        "torch.manual_seed(seed)\n",
        "torch.cuda.manual_seed_all(seed)\n",
        "\n",
        "# Force deterministic behavior in cuDNN\n",
        "torch.backends.cudnn.deterministic = True\n",
        "torch.backends.cudnn.benchmark = False\n",
        "\n",
        "torch.use_deterministic_algorithms(True, warn_only=True)\n",
        "torch.backends.cudnn.deterministic = True\n",
        "torch.backends.cudnn.benchmark = False\n",
        "torch.backends.cuda.matmul.allow_tf32 = False\n",
        "torch.backends.cudnn.allow_tf32 = False\n",
        "\n",
        "from torch.utils.data import Dataset, DataLoader\n",
        "import torch.nn as nn"
      ]
    },
    {
      "cell_type": "code",
      "execution_count": 5,
      "metadata": {
        "colab": {
          "base_uri": "https://localhost:8080/"
        },
        "id": "jnijBftpRtnP",
        "outputId": "41e22710-d944-42aa-ff0b-853b10281482"
      },
      "outputs": [
        {
          "output_type": "stream",
          "name": "stdout",
          "text": [
            "Using device: cuda\n"
          ]
        }
      ],
      "source": [
        "import torch\n",
        "\n",
        "device = torch.device(\"cuda\" if torch.cuda.is_available() else \"cpu\")\n",
        "print(\"Using device:\", device)"
      ]
    },
    {
      "cell_type": "code",
      "execution_count": 6,
      "metadata": {
        "id": "sbsvwqfsNJZG",
        "colab": {
          "base_uri": "https://localhost:8080/"
        },
        "outputId": "e71065fa-ec9d-4d5b-c107-76fc63a9cb71"
      },
      "outputs": [
        {
          "output_type": "stream",
          "name": "stderr",
          "text": [
            "100%|██████████| 9.91M/9.91M [00:00<00:00, 16.0MB/s]\n",
            "100%|██████████| 28.9k/28.9k [00:00<00:00, 479kB/s]\n",
            "100%|██████████| 1.65M/1.65M [00:00<00:00, 4.42MB/s]\n",
            "100%|██████████| 4.54k/4.54k [00:00<00:00, 8.08MB/s]\n"
          ]
        }
      ],
      "source": [
        "from torchvision.datasets.mnist import *\n",
        "\n",
        "def Tansfrm(im):\n",
        "    im = np.array(im).astype(np.float32)\n",
        "    im = (im -128)/255\n",
        "    return torch.tensor(im, requires_grad=False).cuda()\n",
        "\n",
        "dataset_first = MNIST(\"\", train=True, transform= Tansfrm, download=True )"
      ]
    },
    {
      "cell_type": "code",
      "execution_count": 7,
      "metadata": {
        "colab": {
          "base_uri": "https://localhost:8080/"
        },
        "id": "bfA8C-hkNJZG",
        "outputId": "378f076b-6af4-488a-96ae-21d874e0c218"
      },
      "outputs": [
        {
          "output_type": "stream",
          "name": "stdout",
          "text": [
            "None\n",
            "torch.Size([60000, 28, 28])\n"
          ]
        }
      ],
      "source": [
        "dataloader_first = DataLoader(dataset_first, batch_size=2048, shuffle=True)\n",
        "print(dataloader_first.sampler.generator)\n",
        "# <torch._C.Generator object at ...>\n",
        "\n",
        "print(dataset_first.data.shape)\n"
      ]
    },
    {
      "cell_type": "code",
      "execution_count": 8,
      "metadata": {
        "id": "EpYI4CvZo2C1"
      },
      "outputs": [],
      "source": [
        "import torch\n",
        "import torch.nn as nn\n",
        "import torch.nn.functional as F\n",
        "from torch.nn.utils import spectral_norm\n",
        "\n",
        "\n",
        "class Discriminator(nn.Module):\n",
        "    def __init__(self):\n",
        "        super(Discriminator, self).__init__()\n",
        "        # Input: (1, 28, 28)\n",
        "\n",
        "        # Convolutional layers with spectral norm\n",
        "        self.conv1 = spectral_norm(nn.Conv2d(1, 32, kernel_size=3, stride=1, padding=1))   # -> (32, 28, 28)\n",
        "        self.conv2 = spectral_norm(nn.Conv2d(32, 64, kernel_size=3, stride=1, padding=1))  # -> (64, 28, 28)\n",
        "\n",
        "        self.pool = nn.MaxPool2d(2, 2)  # halves each spatial dim\n",
        "\n",
        "        self.conv3 = spectral_norm(nn.Conv2d(64, 128, kernel_size=3, stride=1, padding=1)) # -> (128, 14, 14)\n",
        "        self.conv4 = spectral_norm(nn.Conv2d(128, 256, kernel_size=3, stride=1, padding=1)) # -> (256, 14, 14)\n",
        "\n",
        "        # Fully connected layers with spectral norm\n",
        "        self.fc1 = spectral_norm(nn.Linear((256+64) * 7 * 7, 512))\n",
        "        self.fc2 = spectral_norm(nn.Linear(512, 128))\n",
        "        self.fc3 = spectral_norm(nn.Linear(128, 1))  # critic output (no sigmoid)\n",
        "\n",
        "\n",
        "    def forward(self, x0):\n",
        "        # Ensure shape (B, 1, 28, 28)\n",
        "        x0 = x0.view(-1, 1, 28, 28)\n",
        "\n",
        "        x1 = F.relu(self.conv1(x0), 0.2)\n",
        "        x2 = self.pool(F.relu(self.conv2(x1), 0.2))   # -> (64, 14, 14)\n",
        "\n",
        "        x3 = F.relu(self.conv3(x2+F.interpolate(x0, scale_factor=0.5, mode='bilinear', align_corners=False)), 0.2)\n",
        "        x4 = self.pool(F.relu(self.conv4(x3), 0.2))   # -> (256, 7, 7)\n",
        "\n",
        "        x = torch.cat([x4,F.interpolate(x2, scale_factor=0.5, mode='bilinear', align_corners=False)], dim=1)\n",
        "        x = x.view(-1, (256+64) * 7 * 7)  # flatten\n",
        "        x_p = F.relu(self.fc1(x), 0.2)\n",
        "        x_pp = F.relu(self.fc2(x_p), 0.2)\n",
        "\n",
        "        x_t = self.fc3(x_pp)   # final critic score (can be any real number)\n",
        "        return x_t\n"
      ]
    },
    {
      "cell_type": "code",
      "execution_count": 9,
      "metadata": {
        "id": "N7CmtbaWNJZH"
      },
      "outputs": [],
      "source": [
        "class Generator(nn.Module):\n",
        "    def __init__(self):\n",
        "        super().__init__()\n",
        "\n",
        "        self.fc = nn.Linear(5, 32*7*7)\n",
        "        self.bn1 = nn.BatchNorm2d(16)\n",
        "        self.deconv1 = nn.ConvTranspose2d(32, 16,kernel_size=4, stride = 2, padding=1)\n",
        "        self.deconv2 = nn.ConvTranspose2d(16, 8,kernel_size=3, stride = 1, padding=1)\n",
        "        self.deconv3 = nn.ConvTranspose2d(8, 4,kernel_size=4, stride = 2, padding=1)\n",
        "        self.deconv4 = nn.ConvTranspose2d(4, 1,kernel_size=3, stride = 1, padding=1)\n",
        "        self.bn2 = nn.BatchNorm2d(8)\n",
        "        self.bn3 = nn.BatchNorm2d(4)\n",
        "\n",
        "\n",
        "    def forward(self, z):\n",
        "        x = self.fc(z).view(-1, 32, 7, 7)\n",
        "        x = F.relu(self.bn1(self.deconv1(x)))\n",
        "        x = F.relu(self.bn2(self.deconv2(x)))\n",
        "        x = F.relu(self.bn3(self.deconv3(x)))\n",
        "        x = torch.tanh(self.deconv4(x))   # (batch, 1, 28, 28)\n",
        "        return x.squeeze(1)               # (batch, 28, 28)\n",
        "\n",
        "\n",
        "generator = Generator().cuda()\n",
        "discriminator = Discriminator().cuda()\n",
        "\n",
        "import torch.nn.init as init\n",
        "\n",
        "# You can iterate through all modules and apply initialization\n",
        "for m in generator.modules():\n",
        "      if isinstance(m, (nn.Linear, nn.Conv2d, nn.ConvTranspose2d)):\n",
        "          init.xavier_uniform_(m.weight)\n",
        "          # Optionally initialize biases to zero or a small constant\n",
        "          if m.bias is not None:\n",
        "              init.constant_(m.bias, 0)\n",
        "\n",
        "for m in discriminator.modules():\n",
        "      if isinstance(m, (nn.Linear, nn.Conv2d, nn.ConvTranspose2d)):\n",
        "          init.xavier_uniform_(m.weight)\n",
        "          # Optionally initialize biases to zero or a small constant\n",
        "          if m.bias is not None:\n",
        "              init.constant_(m.bias, 0)\n",
        "              m.bias.requires_grad_(False)\n"
      ]
    },
    {
      "cell_type": "code",
      "execution_count": 10,
      "metadata": {
        "id": "q0GeCXEgNJZI"
      },
      "outputs": [],
      "source": [
        "g_optimizer = torch.optim.SGD(generator.parameters(), lr=0.0003, momentum=0.7, nesterov=True)\n",
        "d_optimizer = torch.optim.SGD(discriminator.parameters(), lr=0.0003, momentum=0.7, nesterov=True)\n"
      ]
    },
    {
      "cell_type": "code",
      "execution_count": 11,
      "metadata": {
        "id": "r01XbQ63NJZI"
      },
      "outputs": [],
      "source": [
        "import matplotlib.pyplot as plt\n",
        "\n",
        "def plot_images(fake_images, num = 5):\n",
        "\n",
        "    for i in range(num):\n",
        "        img_tensor = fake_images[i]\n",
        "        img = img_tensor.permute(1, 2, 0).detach().cpu().numpy().astype(np.float64)\n",
        "\n",
        "        # Normalize to [0,1]\n",
        "        img = img*255+128\n",
        "        img = torch.min(torch.tensor(255), torch.tensor(img))\n",
        "        # Scale to [0,255] and convert to uint8\n",
        "        img_uint8 = (img).numpy().astype(np.uint8)\n",
        "\n",
        "        plt.imshow(img_uint8[:, :, ::-1])\n",
        "        plt.axis(\"off\")\n",
        "        plt.show()"
      ]
    },
    {
      "cell_type": "code",
      "execution_count": 12,
      "metadata": {
        "id": "7Ipo8UUWN_1h",
        "colab": {
          "base_uri": "https://localhost:8080/"
        },
        "outputId": "7264a2db-5a18-4bc5-a1fa-1465668ed25c"
      },
      "outputs": [
        {
          "output_type": "stream",
          "name": "stdout",
          "text": [
            "Mounted at /content/drive/\n"
          ]
        }
      ],
      "source": [
        "from google.colab import drive\n",
        "drive.mount('/content/drive/')"
      ]
    },
    {
      "cell_type": "code",
      "execution_count": 13,
      "metadata": {
        "id": "u6OdHFT83Z2H"
      },
      "outputs": [],
      "source": [
        "checkpoint = torch.load(\"/content/drive/MyDrive/gan_models/generator_checkpoint_epoch_49800.pth\", map_location=\"cpu\", weights_only=False)\n",
        "generator.load_state_dict(checkpoint[\"model_state_dict\"], strict=True)\n",
        "g_optimizer.load_state_dict(checkpoint[\"optimizer_state_dict\"])\n",
        "\n",
        "\n",
        "# Restore RNGs\n",
        "random.setstate(checkpoint[\"python_rng_state\"])\n",
        "np.random.set_state(checkpoint[\"numpy_rng_state\"])\n",
        "torch.set_rng_state(checkpoint[\"rng_state\"])\n",
        "torch.cuda.set_rng_state(checkpoint[\"cuda_rng_state\"])\n",
        "\n",
        "\n",
        "\n",
        "checkpoint = torch.load(\"/content/drive/MyDrive/gan_models/discriminator_checkpoint_49800.pth\", map_location=\"cpu\", weights_only=False)\n",
        "discriminator.load_state_dict(checkpoint[\"model_state_dict\"], strict=True)\n",
        "d_optimizer.load_state_dict(checkpoint[\"optimizer_state_dict\"])"
      ]
    },
    {
      "cell_type": "code",
      "source": [
        "dataloader_iter = iter(dataloader_first)"
      ],
      "metadata": {
        "id": "L3xt_Afrr5nD"
      },
      "execution_count": 14,
      "outputs": []
    },
    {
      "cell_type": "code",
      "source": [
        "def init_ema_model(model):\n",
        "    \"\"\"Make a deepcopy of model for EMA tracking.\"\"\"\n",
        "    ema_model = copy.deepcopy(model)\n",
        "    for p in ema_model.parameters():\n",
        "        p.requires_grad_(False)\n",
        "    return ema_model"
      ],
      "metadata": {
        "id": "SM97zcv9mbZQ"
      },
      "execution_count": 15,
      "outputs": []
    },
    {
      "cell_type": "code",
      "source": [
        "def update_ema_model(model, ema_model, decay=0.75):\n",
        "    \"\"\"Update EMA model in place.\"\"\"\n",
        "    with torch.no_grad():\n",
        "        msd = model.state_dict()\n",
        "        for k, ema_v in ema_model.state_dict().items():\n",
        "            model_v = msd[k].detach()\n",
        "            if torch.is_floating_point(ema_v):\n",
        "                ema_v.mul_(decay).add_(model_v, alpha=1 - decay)\n",
        "            else:\n",
        "                ema_v.copy_(model_v)\n"
      ],
      "metadata": {
        "id": "ukAV4-qDmcVX"
      },
      "execution_count": 16,
      "outputs": []
    },
    {
      "cell_type": "code",
      "source": [
        "def load_ema_to_model(model, ema_model):\n",
        "    \"\"\"Copy EMA model weights into the actual model.\"\"\"\n",
        "    with torch.no_grad():\n",
        "        for p, ema_p in zip(model.state_dict().values(), ema_model.state_dict().values()):\n",
        "            p.copy_(ema_p)"
      ],
      "metadata": {
        "id": "Bdf6z4XenLfD"
      },
      "execution_count": 17,
      "outputs": []
    },
    {
      "cell_type": "code",
      "execution_count": 18,
      "metadata": {
        "id": "ACl8sgJJL6UL"
      },
      "outputs": [],
      "source": [
        "def dump_images(fake_images):\n",
        "    for i in range(fake_images.shape[0]):\n",
        "      img_tensor = fake_images[i]\n",
        "      img = img_tensor.detach().cpu().numpy().astype(np.float32)\n",
        "\n",
        "      # Normalize to [0,1]\n",
        "      img = img*255+128\n",
        "      img = torch.min(torch.tensor(255), torch.tensor(img))\n",
        "      # Scale to [0,255] and convert to uint8\n",
        "      img_uint8 = (img).numpy().astype(np.uint8)\n",
        "\n",
        "      cv2.imwrite(f\"/content/drive/MyDrive/dump_images/{i}.png\", img_uint8)\n"
      ]
    },
    {
      "cell_type": "code",
      "execution_count": null,
      "metadata": {
        "id": "PXeCBZgfNJZI",
        "colab": {
          "base_uri": "https://localhost:8080/"
        },
        "outputId": "47c751a4-addd-42d2-b53f-460959136dcb"
      },
      "outputs": [
        {
          "output_type": "stream",
          "name": "stdout",
          "text": [
            "Epoch starting 49803\n"
          ]
        },
        {
          "output_type": "stream",
          "name": "stderr",
          "text": [
            "/tmp/ipython-input-2963440429.py:75: UserWarning: To copy construct from a tensor, it is recommended to use sourceTensor.detach().clone() or sourceTensor.detach().clone().requires_grad_(True), rather than torch.tensor(sourceTensor).\n",
            "  fake_images_labeled = torch.tensor(fake_images, requires_grad=False).cuda().detach()\n",
            "/tmp/ipython-input-2963440429.py:99: UserWarning: Converting a tensor with requires_grad=True to a scalar may lead to unexpected behavior.\n",
            "Consider using tensor.detach() first. (Triggered internally at /pytorch/torch/csrc/autograd/generated/python_variable_methods.cpp:835.)\n",
            "  print(\"Discriminator loss {:.7f} and step = {} fake_pred {:.7f} real_pred {:.7f}\".format(ls, steps, np.float64(fake_pred.mean().cpu()), np.float64(real_pred.mean().cpu())))\n"
          ]
        },
        {
          "output_type": "stream",
          "name": "stdout",
          "text": [
            "Discriminator loss 0.5670664 and step = 1 fake_pred 0.3209366 real_pred 0.2986753\n",
            "Discriminator loss 0.5071352 and step = 2 fake_pred 0.2766366 real_pred 0.2666378\n",
            "Discriminator loss 0.3652720 and step = 3 fake_pred 0.2194268 real_pred 0.2214506\n",
            "Discriminator loss 0.0786177 and step = 4 fake_pred 0.1496176 real_pred 0.1641901\n",
            "Discriminator loss 0.1017748 and step = 5 fake_pred 0.0755972 real_pred 0.1072329\n",
            "Discriminator loss 0.0613015 and step = 6 fake_pred -0.0015676 real_pred 0.0419211\n",
            "Discriminator loss -0.3769762 and step = 7 fake_pred -0.0838568 real_pred -0.0229741\n",
            "Discriminator loss -0.3266161 and step = 8 fake_pred -0.1585783 real_pred -0.0809260\n",
            "Generator loss 2.4814765 and step = 1 \n",
            "Generator loss 2.4273932 and step = 2 \n",
            "Generator loss 2.3533630 and step = 3 \n",
            "Generator loss 2.2784848 and step = 4 \n",
            "Generator loss 2.1873145 and step = 5 \n",
            "Generator loss 2.1063030 and step = 6 \n",
            "Generator loss 2.0222251 and step = 7 \n",
            "Generator loss 1.9334581 and step = 8 \n",
            "Generator loss 1.8268375 and step = 9 \n",
            "Generator loss 1.7493564 and step = 10 \n",
            "Generator loss 1.6516731 and step = 11 \n",
            "Generator loss 1.5826571 and step = 12 \n",
            "Generator loss 1.4730865 and step = 13 \n",
            "Generator loss 1.3962674 and step = 14 \n",
            "Generator loss 1.3087775 and step = 15 \n",
            "Generator loss 1.2293533 and step = 16 \n",
            "Epoch starting 49804\n",
            "Discriminator loss 0.7555020 and step = 1 fake_pred -0.1135917 real_pred -0.1560552\n",
            "Discriminator loss 0.5283676 and step = 2 fake_pred -0.1001094 real_pred -0.1312382\n",
            "Discriminator loss 0.5284550 and step = 3 fake_pred -0.0696674 real_pred -0.0913474\n",
            "Discriminator loss 0.3551363 and step = 4 fake_pred -0.0378303 real_pred -0.0481459\n",
            "Discriminator loss 0.0939773 and step = 5 fake_pred -0.0002248 real_pred 0.0045543\n",
            "Discriminator loss 0.0982059 and step = 6 fake_pred 0.0460876 real_pred 0.0655231\n",
            "Discriminator loss -0.1079367 and step = 7 fake_pred 0.0850579 real_pred 0.1221187\n",
            "Discriminator loss -0.1922605 and step = 8 fake_pred 0.1299815 real_pred 0.1778531\n",
            "Generator loss -1.6917391 and step = 1 \n",
            "Generator loss -1.7441916 and step = 2 \n",
            "Generator loss -1.8075353 and step = 3 \n",
            "Generator loss -1.8976194 and step = 4 \n",
            "Generator loss -1.9589139 and step = 5 \n",
            "Generator loss -2.0466878 and step = 6 \n",
            "Generator loss -2.1253102 and step = 7 \n",
            "Generator loss -2.1975155 and step = 8 \n",
            "Generator loss -2.2540941 and step = 9 \n",
            "Generator loss -2.3170998 and step = 10 \n",
            "Generator loss -2.3887646 and step = 11 \n",
            "Generator loss -2.4194100 and step = 12 \n",
            "Generator loss -2.4667225 and step = 13 \n",
            "Generator loss -2.5381207 and step = 14 \n",
            "Generator loss -2.5624778 and step = 15 \n",
            "Generator loss -2.5842524 and step = 16 \n",
            "Epoch starting 49805\n",
            "Discriminator loss 0.6175478 and step = 1 fake_pred 0.2635800 real_pred 0.2324618\n",
            "Discriminator loss 0.6163923 and step = 2 fake_pred 0.2342947 real_pred 0.2065595\n"
          ]
        }
      ],
      "source": [
        "import copy\n",
        "import random\n",
        "\n",
        "epochs = 0\n",
        "\n",
        "save_interval=20\n",
        "\n",
        "checkpoint_dir = \"/content/drive/MyDrive/gan_models\"\n",
        "\n",
        "#normalize_each_param(discriminator)\n",
        "\n",
        "#discriminator_ema = init_ema_model(discriminator).cuda()  # EMA model has same architecture\n",
        "\n",
        "\n",
        "for epoch in range(49803, epochs+280004):\n",
        "\n",
        "\n",
        "    checkpoint_dir = \"/content/drive/MyDrive/gan_models\"\n",
        "\n",
        "    if (epoch)%save_interval == 0:\n",
        "\n",
        "      checkpoint_path =f\"{checkpoint_dir}/generator_checkpoint_epoch_{epoch}.pth\"\n",
        "\n",
        "\n",
        "      torch.save({\n",
        "            'epoch': epoch,\n",
        "            'model_state_dict': generator.state_dict(),\n",
        "            'optimizer_state_dict': g_optimizer.state_dict(),\n",
        "            \"rng_state\": torch.get_rng_state(),\n",
        "            \"numpy_rng_state\": np.random.get_state(),\n",
        "            \"python_rng_state\": random.getstate(),\n",
        "            \"cuda_rng_state\": torch.cuda.get_rng_state()\n",
        "        }, checkpoint_path)\n",
        "      checkpoint_path = f\"{checkpoint_dir}/discriminator_checkpoint_{epoch}.pth\"\n",
        "      torch.save({\n",
        "            'epoch': epoch,\n",
        "            'model_state_dict': discriminator.state_dict(),\n",
        "            'optimizer_state_dict': d_optimizer.state_dict()\n",
        "        }, checkpoint_path)\n",
        "\n",
        "      print(f\"Model checkpoint saved to {checkpoint_path}\")\n",
        "\n",
        "\n",
        "    print(\"Epoch starting {}\".format(epoch))\n",
        "    steps = 0\n",
        "\n",
        "    d_optimizer = torch.optim.SGD(discriminator.parameters(), lr=0.0003, momentum=0.7, nesterov=True)\n",
        "\n",
        "    try:\n",
        "        #discriminator_loss = torch.tensor(0.0).cuda()\n",
        "        while True:\n",
        "            steps += 1\n",
        "            if steps > 8:\n",
        "                break\n",
        "\n",
        "            g_optimizer.zero_grad()\n",
        "            d_optimizer.zero_grad()\n",
        "\n",
        "            try:\n",
        "              ims, _ = next(dataloader_iter)\n",
        "\n",
        "            except StopIteration:\n",
        "              dataloader_first = DataLoader(dataset_first, batch_size=2048, shuffle=True)\n",
        "              dataloader_iter = iter(dataloader_first)\n",
        "              ims, _ = next(dataloader_iter)\n",
        "\n",
        "\n",
        "            real_pred = discriminator(ims)\n",
        "\n",
        "\n",
        "            gauss = torch.randn(len(ims), 5, device=\"cuda\")\n",
        "\n",
        "            fake_images = generator(gauss)\n",
        "\n",
        "            fake_images_labeled = torch.tensor(fake_images, requires_grad=False).cuda().detach()\n",
        "\n",
        "            fake_pred = discriminator(fake_images_labeled)\n",
        "\n",
        "            temp_pred = discriminator(0.5*ims+0.5*fake_images_labeled)\n",
        "\n",
        "            #temp_pred2 = discriminator(0.25*ims+0.75*fake_images_labeled)\n",
        "\n",
        "            #temp_pred3 = discriminator(0.75*ims+0.25*fake_images_labeled)\n",
        "\n",
        "            ls = 10*(fake_pred-real_pred).mean() + 10*((temp_pred-0.5*real_pred-0.5*fake_pred).abs().mean())#+ 10*((temp_pred2-0.25*real_pred-0.75*fake_pred).abs().mean()) + 10*((temp_pred3-0.75*real_pred-0.25*fake_pred).abs().mean())\n",
        "\n",
        "\n",
        "            for _ in range(4):\n",
        "\n",
        "              alph = random.uniform(0.0, 1.0)\n",
        "              temp_pred = discriminator(alph*ims+(1-alph)*fake_images_labeled)\n",
        "              ls += 10*((temp_pred-alph*real_pred-(1-alph)*fake_pred).abs().mean())\n",
        "\n",
        "\n",
        "\n",
        "            ls.backward()\n",
        "            d_optimizer.step()\n",
        "\n",
        "            print(\"Discriminator loss {:.7f} and step = {} fake_pred {:.7f} real_pred {:.7f}\".format(ls, steps, np.float64(fake_pred.mean().cpu()), np.float64(real_pred.mean().cpu())))\n",
        "\n",
        "            #print(\"Discriminator loss in class 0 images {:.7f} and step = {} fake_pred {:.7f} real_pred {:.7f} temp_pred {:.7f} 1q {:.7f} 3q {:.7f}\".format(ls, steps, np.float64(fake_pred.mean().cpu()), np.float64(real_pred.mean().cpu()), np.float64(temp_pred.mean().cpu()), np.float64(temp_pred2.mean().cpu()), np.float64(temp_pred3.mean().cpu())))\n",
        "\n",
        "\n",
        "    except Exception as e:\n",
        "        print(e)\n",
        "        pass\n",
        "\n",
        "    #update_ema_model(discriminator, discriminator_ema)\n",
        "    #load_ema_to_model(discriminator, discriminator_ema)\n",
        "\n",
        "\n",
        "    #generator_ema = init_ema_model(generator).cuda()  # EMA model has same architecture\n",
        "    g_optimizer = torch.optim.SGD(generator.parameters(), lr=0.0003, momentum=0.7, nesterov=True)\n",
        "\n",
        "\n",
        "    steps = 0\n",
        "\n",
        "    while True:\n",
        "        steps += 1\n",
        "        if steps > 16:\n",
        "            break\n",
        "\n",
        "        d_optimizer.zero_grad()\n",
        "        g_optimizer.zero_grad()\n",
        "\n",
        "\n",
        "        gauss = torch.randn(2048, 5, device=\"cuda\")\n",
        "\n",
        "        fake_images_labeled = generator(gauss)\n",
        "\n",
        "        fake_pred = discriminator(fake_images_labeled)\n",
        "\n",
        "        ls = -10*(fake_pred).mean()\n",
        "        ls.backward()\n",
        "\n",
        "            #normalize_each_param(discriminator)\n",
        "\n",
        "        g_optimizer.step()\n",
        "        print(\"Generator loss {:.7f} and step = {} \".format(ls, steps))\n",
        "\n",
        "\n",
        "\n",
        "    #update_ema_model(generator, generator_ema, decay=0.85)\n",
        "    #load_ema_to_model(generator, generator_ema)\n",
        "\n",
        "    if (epoch)%save_interval==0:\n",
        "        with torch.no_grad():\n",
        "\n",
        "            gauss = torch.randn(100, 5, device=\"cuda\")\n",
        "\n",
        "            fake_images = generator(gauss)\n",
        "\n",
        "            fake_images = torch.tensor(fake_images, requires_grad=False).cuda().detach()\n",
        "\n",
        "            fake_images_labeled = fake_images\n",
        "            dump_images(torch.clone(fake_images_labeled))\n",
        "\n",
        "\n"
      ]
    }
  ],
  "metadata": {
    "accelerator": "GPU",
    "colab": {
      "gpuType": "T4",
      "provenance": []
    },
    "kernelspec": {
      "display_name": "Python 3",
      "name": "python3"
    },
    "language_info": {
      "codemirror_mode": {
        "name": "ipython",
        "version": 3
      },
      "file_extension": ".py",
      "mimetype": "text/x-python",
      "name": "python",
      "nbconvert_exporter": "python",
      "pygments_lexer": "ipython3",
      "version": "3.9.6"
    }
  },
  "nbformat": 4,
  "nbformat_minor": 0
}